{
 "cells": [
  {
   "cell_type": "markdown",
   "id": "ee314908",
   "metadata": {},
   "source": [
    "# Lab | Inferential statistics - T-test & P-value"
   ]
  },
  {
   "cell_type": "markdown",
   "id": "515aa25e",
   "metadata": {},
   "source": [
    "## 1.  We will have another simple example on two sample t test (pooled- when the variances are equal). But this time this is a one sided t-test\n",
    "\n",
    "In a packing plant, a machine packs cartons with jars. It is supposed that a new machine will pack faster on the average than the machine currently used. To test that hypothesis, the times it takes each machine to pack ten cartons are recorded. The results, in seconds, are shown in the tables in the file `files_for_lab/machine.txt`.\n",
    "Assume that there is sufficient evidence to conduct the t test, does the data provide sufficient evidence to show if one machine is better than the other\n",
    "\n",
    "\n"
   ]
  },
  {
   "cell_type": "code",
   "execution_count": 1,
   "id": "c4797fc7",
   "metadata": {},
   "outputs": [],
   "source": [
    "import pandas as pd\n",
    "import numpy as np\n",
    "import datetime\n",
    "import warnings\n",
    "import matplotlib.pyplot as plt\n",
    "import seaborn as sns\n",
    "\n",
    "warnings.filterwarnings('ignore')"
   ]
  },
  {
   "cell_type": "code",
   "execution_count": 38,
   "id": "8e2b9d41",
   "metadata": {},
   "outputs": [
    {
     "data": {
      "text/html": [
       "<div>\n",
       "<style scoped>\n",
       "    .dataframe tbody tr th:only-of-type {\n",
       "        vertical-align: middle;\n",
       "    }\n",
       "\n",
       "    .dataframe tbody tr th {\n",
       "        vertical-align: top;\n",
       "    }\n",
       "\n",
       "    .dataframe thead th {\n",
       "        text-align: right;\n",
       "    }\n",
       "</style>\n",
       "<table border=\"1\" class=\"dataframe\">\n",
       "  <thead>\n",
       "    <tr style=\"text-align: right;\">\n",
       "      <th></th>\n",
       "      <th>new_machine</th>\n",
       "      <th>old_machine</th>\n",
       "    </tr>\n",
       "  </thead>\n",
       "  <tbody>\n",
       "    <tr>\n",
       "      <th>0</th>\n",
       "      <td>42.1</td>\n",
       "      <td>42.7</td>\n",
       "    </tr>\n",
       "    <tr>\n",
       "      <th>1</th>\n",
       "      <td>41.0</td>\n",
       "      <td>43.6</td>\n",
       "    </tr>\n",
       "    <tr>\n",
       "      <th>2</th>\n",
       "      <td>41.3</td>\n",
       "      <td>43.8</td>\n",
       "    </tr>\n",
       "    <tr>\n",
       "      <th>3</th>\n",
       "      <td>41.8</td>\n",
       "      <td>43.3</td>\n",
       "    </tr>\n",
       "    <tr>\n",
       "      <th>4</th>\n",
       "      <td>42.4</td>\n",
       "      <td>42.5</td>\n",
       "    </tr>\n",
       "    <tr>\n",
       "      <th>5</th>\n",
       "      <td>42.8</td>\n",
       "      <td>43.5</td>\n",
       "    </tr>\n",
       "    <tr>\n",
       "      <th>6</th>\n",
       "      <td>43.2</td>\n",
       "      <td>43.1</td>\n",
       "    </tr>\n",
       "    <tr>\n",
       "      <th>7</th>\n",
       "      <td>42.3</td>\n",
       "      <td>41.7</td>\n",
       "    </tr>\n",
       "    <tr>\n",
       "      <th>8</th>\n",
       "      <td>41.8</td>\n",
       "      <td>44.0</td>\n",
       "    </tr>\n",
       "    <tr>\n",
       "      <th>9</th>\n",
       "      <td>42.7</td>\n",
       "      <td>44.1</td>\n",
       "    </tr>\n",
       "  </tbody>\n",
       "</table>\n",
       "</div>"
      ],
      "text/plain": [
       "   new_machine  old_machine\n",
       "0         42.1         42.7\n",
       "1         41.0         43.6\n",
       "2         41.3         43.8\n",
       "3         41.8         43.3\n",
       "4         42.4         42.5\n",
       "5         42.8         43.5\n",
       "6         43.2         43.1\n",
       "7         42.3         41.7\n",
       "8         41.8         44.0\n",
       "9         42.7         44.1"
      ]
     },
     "execution_count": 38,
     "metadata": {},
     "output_type": "execute_result"
    }
   ],
   "source": [
    "data = pd.read_excel('machine.xlsx')\n",
    "data"
   ]
  },
  {
   "cell_type": "code",
   "execution_count": 39,
   "id": "ee28b964",
   "metadata": {},
   "outputs": [],
   "source": [
    "new = data[\"new_machine\"]"
   ]
  },
  {
   "cell_type": "code",
   "execution_count": 40,
   "id": "23c51295",
   "metadata": {},
   "outputs": [],
   "source": [
    "old = data[\"old_machine\"]"
   ]
  },
  {
   "cell_type": "code",
   "execution_count": 43,
   "id": "d3bcc420",
   "metadata": {},
   "outputs": [
    {
     "data": {
      "text/html": [
       "<div>\n",
       "<style scoped>\n",
       "    .dataframe tbody tr th:only-of-type {\n",
       "        vertical-align: middle;\n",
       "    }\n",
       "\n",
       "    .dataframe tbody tr th {\n",
       "        vertical-align: top;\n",
       "    }\n",
       "\n",
       "    .dataframe thead th {\n",
       "        text-align: right;\n",
       "    }\n",
       "</style>\n",
       "<table border=\"1\" class=\"dataframe\">\n",
       "  <thead>\n",
       "    <tr style=\"text-align: right;\">\n",
       "      <th></th>\n",
       "      <th>new_machine</th>\n",
       "      <th>old_machine</th>\n",
       "    </tr>\n",
       "  </thead>\n",
       "  <tbody>\n",
       "    <tr>\n",
       "      <th>count</th>\n",
       "      <td>10.000000</td>\n",
       "      <td>10.000000</td>\n",
       "    </tr>\n",
       "    <tr>\n",
       "      <th>mean</th>\n",
       "      <td>42.140000</td>\n",
       "      <td>43.230000</td>\n",
       "    </tr>\n",
       "    <tr>\n",
       "      <th>std</th>\n",
       "      <td>0.683455</td>\n",
       "      <td>0.749889</td>\n",
       "    </tr>\n",
       "    <tr>\n",
       "      <th>min</th>\n",
       "      <td>41.000000</td>\n",
       "      <td>41.700000</td>\n",
       "    </tr>\n",
       "    <tr>\n",
       "      <th>25%</th>\n",
       "      <td>41.800000</td>\n",
       "      <td>42.800000</td>\n",
       "    </tr>\n",
       "    <tr>\n",
       "      <th>50%</th>\n",
       "      <td>42.200000</td>\n",
       "      <td>43.400000</td>\n",
       "    </tr>\n",
       "    <tr>\n",
       "      <th>75%</th>\n",
       "      <td>42.625000</td>\n",
       "      <td>43.750000</td>\n",
       "    </tr>\n",
       "    <tr>\n",
       "      <th>max</th>\n",
       "      <td>43.200000</td>\n",
       "      <td>44.100000</td>\n",
       "    </tr>\n",
       "  </tbody>\n",
       "</table>\n",
       "</div>"
      ],
      "text/plain": [
       "       new_machine  old_machine\n",
       "count    10.000000    10.000000\n",
       "mean     42.140000    43.230000\n",
       "std       0.683455     0.749889\n",
       "min      41.000000    41.700000\n",
       "25%      41.800000    42.800000\n",
       "50%      42.200000    43.400000\n",
       "75%      42.625000    43.750000\n",
       "max      43.200000    44.100000"
      ]
     },
     "execution_count": 43,
     "metadata": {},
     "output_type": "execute_result"
    }
   ],
   "source": [
    "data.describe()"
   ]
  },
  {
   "cell_type": "code",
   "execution_count": 44,
   "id": "7d6311fd",
   "metadata": {},
   "outputs": [],
   "source": [
    "sample_mean_new = 42.14\n",
    "sample_std_new = 0.683455\n",
    "n1 = 10\n",
    "\n",
    "sample_mean_old = 43.23\n",
    "sample_std_old = 0.749889\n",
    "n2 = 10"
   ]
  },
  {
   "cell_type": "code",
   "execution_count": 45,
   "id": "6c19d684",
   "metadata": {},
   "outputs": [],
   "source": [
    "new = norm.rvs(loc=sample_mean_new, scale=sample_std_new, size=10)\n",
    "old = norm.rvs(loc=sample_mean_old, scale=sample_std_old, size=10)"
   ]
  },
  {
   "cell_type": "code",
   "execution_count": 46,
   "id": "c95ac380",
   "metadata": {},
   "outputs": [
    {
     "data": {
      "text/plain": [
       "Ttest_indResult(statistic=-3.5405530260886073, pvalue=0.0023364835111191395)"
      ]
     },
     "execution_count": 46,
     "metadata": {},
     "output_type": "execute_result"
    }
   ],
   "source": [
    "ttest_ind(new, old)"
   ]
  },
  {
   "cell_type": "markdown",
   "id": "31173730",
   "metadata": {},
   "source": [
    "- Degrees of freedom = (10-1)+(10-1) = 18 \n",
    "- Significance level = 0.05 \n",
    "- T-critical = 2.101"
   ]
  },
  {
   "cell_type": "markdown",
   "id": "6060d901",
   "metadata": {},
   "source": [
    "We can reject null hypothesis with 95% confidence. Old machine is significantly faster, because t-stat 3.54 > t_critical. "
   ]
  },
  {
   "cell_type": "markdown",
   "id": "501614ae",
   "metadata": {},
   "source": [
    "## 2. An additional problem (not mandatory): In this case we can't assume that the population variances are equal. Hence in this case we cannot pool the variances.\n",
    "   Independent random samples of 17 sophomores and 13 juniors attending a large university yield the following data on grade point averages. Data is provided in the file `files_for_lab/student_gpa.txt`.\n",
    "   At the 5% significance level, do the data provide sufficient evidence to conclude that the mean GPAs of sophomores and juniors at the university differ?\n",
    "\n",
    "   Test statistics can be calculated as: [link to the image - Test statistics calculation for Unpooled Variance Case](https://education-team-2020.s3-eu-west-1.amazonaws.com/data-analytics/7.04/7.04-unpooled_variances.png)\n",
    "\n",
    "   Degrees of freedom is `(n1-1)+(n2-1)`."
   ]
  },
  {
   "cell_type": "code",
   "execution_count": 16,
   "id": "35dbe89c",
   "metadata": {},
   "outputs": [
    {
     "data": {
      "text/html": [
       "<div>\n",
       "<style scoped>\n",
       "    .dataframe tbody tr th:only-of-type {\n",
       "        vertical-align: middle;\n",
       "    }\n",
       "\n",
       "    .dataframe tbody tr th {\n",
       "        vertical-align: top;\n",
       "    }\n",
       "\n",
       "    .dataframe thead th {\n",
       "        text-align: right;\n",
       "    }\n",
       "</style>\n",
       "<table border=\"1\" class=\"dataframe\">\n",
       "  <thead>\n",
       "    <tr style=\"text-align: right;\">\n",
       "      <th></th>\n",
       "      <th>sophomores</th>\n",
       "      <th>juniors</th>\n",
       "    </tr>\n",
       "  </thead>\n",
       "  <tbody>\n",
       "    <tr>\n",
       "      <th>0</th>\n",
       "      <td>3.04</td>\n",
       "      <td>2.56</td>\n",
       "    </tr>\n",
       "    <tr>\n",
       "      <th>1</th>\n",
       "      <td>1.71</td>\n",
       "      <td>2.77</td>\n",
       "    </tr>\n",
       "    <tr>\n",
       "      <th>2</th>\n",
       "      <td>3.30</td>\n",
       "      <td>2.70</td>\n",
       "    </tr>\n",
       "    <tr>\n",
       "      <th>3</th>\n",
       "      <td>2.88</td>\n",
       "      <td>3.00</td>\n",
       "    </tr>\n",
       "    <tr>\n",
       "      <th>4</th>\n",
       "      <td>2.11</td>\n",
       "      <td>2.98</td>\n",
       "    </tr>\n",
       "    <tr>\n",
       "      <th>5</th>\n",
       "      <td>2.60</td>\n",
       "      <td>3.47</td>\n",
       "    </tr>\n",
       "    <tr>\n",
       "      <th>6</th>\n",
       "      <td>2.92</td>\n",
       "      <td>3.26</td>\n",
       "    </tr>\n",
       "    <tr>\n",
       "      <th>7</th>\n",
       "      <td>3.60</td>\n",
       "      <td>3.20</td>\n",
       "    </tr>\n",
       "    <tr>\n",
       "      <th>8</th>\n",
       "      <td>2.28</td>\n",
       "      <td>3.19</td>\n",
       "    </tr>\n",
       "    <tr>\n",
       "      <th>9</th>\n",
       "      <td>2.82</td>\n",
       "      <td>2.65</td>\n",
       "    </tr>\n",
       "    <tr>\n",
       "      <th>10</th>\n",
       "      <td>3.03</td>\n",
       "      <td>3.00</td>\n",
       "    </tr>\n",
       "    <tr>\n",
       "      <th>11</th>\n",
       "      <td>3.12</td>\n",
       "      <td>3.39</td>\n",
       "    </tr>\n",
       "    <tr>\n",
       "      <th>12</th>\n",
       "      <td>2.86</td>\n",
       "      <td>2.58</td>\n",
       "    </tr>\n",
       "    <tr>\n",
       "      <th>13</th>\n",
       "      <td>3.49</td>\n",
       "      <td>NaN</td>\n",
       "    </tr>\n",
       "    <tr>\n",
       "      <th>14</th>\n",
       "      <td>3.11</td>\n",
       "      <td>NaN</td>\n",
       "    </tr>\n",
       "    <tr>\n",
       "      <th>15</th>\n",
       "      <td>2.13</td>\n",
       "      <td>NaN</td>\n",
       "    </tr>\n",
       "    <tr>\n",
       "      <th>16</th>\n",
       "      <td>3.27</td>\n",
       "      <td>NaN</td>\n",
       "    </tr>\n",
       "  </tbody>\n",
       "</table>\n",
       "</div>"
      ],
      "text/plain": [
       "    sophomores  juniors\n",
       "0         3.04     2.56\n",
       "1         1.71     2.77\n",
       "2         3.30     2.70\n",
       "3         2.88     3.00\n",
       "4         2.11     2.98\n",
       "5         2.60     3.47\n",
       "6         2.92     3.26\n",
       "7         3.60     3.20\n",
       "8         2.28     3.19\n",
       "9         2.82     2.65\n",
       "10        3.03     3.00\n",
       "11        3.12     3.39\n",
       "12        2.86     2.58\n",
       "13        3.49      NaN\n",
       "14        3.11      NaN\n",
       "15        2.13      NaN\n",
       "16        3.27      NaN"
      ]
     },
     "execution_count": 16,
     "metadata": {},
     "output_type": "execute_result"
    }
   ],
   "source": [
    "data_1 = pd.read_excel('student_gpa.xlsx')\n",
    "data_1"
   ]
  },
  {
   "cell_type": "code",
   "execution_count": 17,
   "id": "13d40428",
   "metadata": {},
   "outputs": [],
   "source": [
    "sophomores = data_1[\"sophomores\"]"
   ]
  },
  {
   "cell_type": "code",
   "execution_count": 22,
   "id": "0ce8f044",
   "metadata": {},
   "outputs": [],
   "source": [
    "juniors = [2.56, 2.77, 2.7, 3, 2.98, 3.47 , 3.26 , 3.2´,3.19 ,2.65, 3, 3.39,2.58]"
   ]
  },
  {
   "cell_type": "code",
   "execution_count": 47,
   "id": "58c0fa3e",
   "metadata": {},
   "outputs": [
    {
     "data": {
      "text/html": [
       "<div>\n",
       "<style scoped>\n",
       "    .dataframe tbody tr th:only-of-type {\n",
       "        vertical-align: middle;\n",
       "    }\n",
       "\n",
       "    .dataframe tbody tr th {\n",
       "        vertical-align: top;\n",
       "    }\n",
       "\n",
       "    .dataframe thead th {\n",
       "        text-align: right;\n",
       "    }\n",
       "</style>\n",
       "<table border=\"1\" class=\"dataframe\">\n",
       "  <thead>\n",
       "    <tr style=\"text-align: right;\">\n",
       "      <th></th>\n",
       "      <th>sophomores</th>\n",
       "      <th>juniors</th>\n",
       "    </tr>\n",
       "  </thead>\n",
       "  <tbody>\n",
       "    <tr>\n",
       "      <th>count</th>\n",
       "      <td>17.000000</td>\n",
       "      <td>13.000000</td>\n",
       "    </tr>\n",
       "    <tr>\n",
       "      <th>mean</th>\n",
       "      <td>2.839412</td>\n",
       "      <td>2.980769</td>\n",
       "    </tr>\n",
       "    <tr>\n",
       "      <th>std</th>\n",
       "      <td>0.519489</td>\n",
       "      <td>0.309259</td>\n",
       "    </tr>\n",
       "    <tr>\n",
       "      <th>min</th>\n",
       "      <td>1.710000</td>\n",
       "      <td>2.560000</td>\n",
       "    </tr>\n",
       "    <tr>\n",
       "      <th>25%</th>\n",
       "      <td>2.600000</td>\n",
       "      <td>2.700000</td>\n",
       "    </tr>\n",
       "    <tr>\n",
       "      <th>50%</th>\n",
       "      <td>2.920000</td>\n",
       "      <td>3.000000</td>\n",
       "    </tr>\n",
       "    <tr>\n",
       "      <th>75%</th>\n",
       "      <td>3.120000</td>\n",
       "      <td>3.200000</td>\n",
       "    </tr>\n",
       "    <tr>\n",
       "      <th>max</th>\n",
       "      <td>3.600000</td>\n",
       "      <td>3.470000</td>\n",
       "    </tr>\n",
       "  </tbody>\n",
       "</table>\n",
       "</div>"
      ],
      "text/plain": [
       "       sophomores    juniors\n",
       "count   17.000000  13.000000\n",
       "mean     2.839412   2.980769\n",
       "std      0.519489   0.309259\n",
       "min      1.710000   2.560000\n",
       "25%      2.600000   2.700000\n",
       "50%      2.920000   3.000000\n",
       "75%      3.120000   3.200000\n",
       "max      3.600000   3.470000"
      ]
     },
     "execution_count": 47,
     "metadata": {},
     "output_type": "execute_result"
    }
   ],
   "source": [
    "data_1.describe()"
   ]
  },
  {
   "cell_type": "code",
   "execution_count": 48,
   "id": "16351acb",
   "metadata": {},
   "outputs": [],
   "source": [
    "sample_mean_sophomores = 2.83\n",
    "sample_std_sophomores = 0.51\n",
    "n1 = 17\n",
    "\n",
    "sample_mean_juniors = 2.98\n",
    "sample_std_juniors = 0.30\n",
    "n2 = 13"
   ]
  },
  {
   "cell_type": "code",
   "execution_count": 49,
   "id": "a10ef633",
   "metadata": {},
   "outputs": [],
   "source": [
    "sophomores = norm.rvs(loc=sample_mean_sophomores, scale=sample_std_sophomores, size=n1)\n",
    "juniors = norm.rvs(loc=sample_mean_juniors, scale=sample_std_juniors, size=n2)"
   ]
  },
  {
   "cell_type": "code",
   "execution_count": 50,
   "id": "73f565ee",
   "metadata": {},
   "outputs": [
    {
     "data": {
      "text/plain": [
       "Ttest_indResult(statistic=1.0756662388516862, pvalue=0.29125830860530916)"
      ]
     },
     "execution_count": 50,
     "metadata": {},
     "output_type": "execute_result"
    }
   ],
   "source": [
    "ttest_ind(sophomores, juniors)"
   ]
  },
  {
   "cell_type": "markdown",
   "id": "f1a5d3bd",
   "metadata": {},
   "source": [
    "- Degrees of freedom = (17-1)+(13-1) = 28\n",
    "- Significance level = 0.05\n",
    "- T-critical = 1.701"
   ]
  },
  {
   "cell_type": "markdown",
   "id": "4eb78750",
   "metadata": {},
   "source": [
    "We can't reject null hypothesis with 95% confidenceMean of sophomores is not significantly different, because t-stat 1.07 < t_critical."
   ]
  }
 ],
 "metadata": {
  "kernelspec": {
   "display_name": "Python 3",
   "language": "python",
   "name": "python3"
  },
  "language_info": {
   "codemirror_mode": {
    "name": "ipython",
    "version": 3
   },
   "file_extension": ".py",
   "mimetype": "text/x-python",
   "name": "python",
   "nbconvert_exporter": "python",
   "pygments_lexer": "ipython3",
   "version": "3.8.8"
  }
 },
 "nbformat": 4,
 "nbformat_minor": 5
}
