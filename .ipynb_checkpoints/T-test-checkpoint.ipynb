{
 "cells": [
  {
   "cell_type": "markdown",
   "id": "ee314908",
   "metadata": {},
   "source": [
    "# Lab | Inferential statistics - T-test & P-value"
   ]
  },
  {
   "cell_type": "markdown",
   "id": "515aa25e",
   "metadata": {},
   "source": [
    "## 1.  We will have another simple example on two sample t test (pooled- when the variances are equal). But this time this is a one sided t-test\n",
    "\n",
    "In a packing plant, a machine packs cartons with jars. It is supposed that a new machine will pack faster on the average than the machine currently used. To test that hypothesis, the times it takes each machine to pack ten cartons are recorded. The results, in seconds, are shown in the tables in the file `files_for_lab/machine.txt`.\n",
    "Assume that there is sufficient evidence to conduct the t test, does the data provide sufficient evidence to show if one machine is better than the other\n",
    "\n",
    "\n"
   ]
  },
  {
   "cell_type": "code",
   "execution_count": 24,
   "id": "d790d3a2",
   "metadata": {},
   "outputs": [],
   "source": [
    "import math\n",
    "from statistics import math\n",
    "import numpy as np\n",
    "from numpy import sqrt "
   ]
  },
  {
   "cell_type": "code",
   "execution_count": 25,
   "id": "7603530c",
   "metadata": {},
   "outputs": [],
   "source": [
    "n_machines = [42.1,41,41.3,41.8,42.4,42.8,43.2,42.3,41.8,42.7]"
   ]
  },
  {
   "cell_type": "code",
   "execution_count": 26,
   "id": "364285e8",
   "metadata": {},
   "outputs": [
    {
     "data": {
      "text/plain": [
       "10"
      ]
     },
     "execution_count": 26,
     "metadata": {},
     "output_type": "execute_result"
    }
   ],
   "source": [
    "n1 = len(n_machines)\n",
    "n1"
   ]
  },
  {
   "cell_type": "code",
   "execution_count": 27,
   "id": "0f36221e",
   "metadata": {},
   "outputs": [
    {
     "data": {
      "text/plain": [
       "42.14"
      ]
     },
     "execution_count": 27,
     "metadata": {},
     "output_type": "execute_result"
    }
   ],
   "source": [
    "sample_mean1 = sum(n_machines)/sample1\n",
    "sample_mean1"
   ]
  },
  {
   "cell_type": "code",
   "execution_count": 29,
   "id": "17f434a5",
   "metadata": {},
   "outputs": [
    {
     "data": {
      "text/plain": [
       "6.491532946846993"
      ]
     },
     "execution_count": 29,
     "metadata": {},
     "output_type": "execute_result"
    }
   ],
   "source": [
    "sample_std1 = sqrt(sample_mean1) \n",
    "sample_std1"
   ]
  },
  {
   "cell_type": "code",
   "execution_count": 30,
   "id": "c4797fc7",
   "metadata": {},
   "outputs": [],
   "source": [
    "o_machines = [42.7,43.6,43.8,43.3,42.5,43.5,43.1,41.7,44,44.1]"
   ]
  },
  {
   "cell_type": "code",
   "execution_count": 31,
   "id": "4493b132",
   "metadata": {},
   "outputs": [
    {
     "data": {
      "text/plain": [
       "10"
      ]
     },
     "execution_count": 31,
     "metadata": {},
     "output_type": "execute_result"
    }
   ],
   "source": [
    "n2 = len(o_machines)\n",
    "n2"
   ]
  },
  {
   "cell_type": "code",
   "execution_count": 32,
   "id": "0dba9bd7",
   "metadata": {},
   "outputs": [
    {
     "data": {
      "text/plain": [
       "43.230000000000004"
      ]
     },
     "execution_count": 32,
     "metadata": {},
     "output_type": "execute_result"
    }
   ],
   "source": [
    "sample_mean2 = sum(o_machines)/n2\n",
    "sample_mean2"
   ]
  },
  {
   "cell_type": "code",
   "execution_count": 33,
   "id": "d3dcb694",
   "metadata": {},
   "outputs": [
    {
     "data": {
      "text/plain": [
       "6.5749524713111045"
      ]
     },
     "execution_count": 33,
     "metadata": {},
     "output_type": "execute_result"
    }
   ],
   "source": [
    "sample_std2 = sqrt(sample_mean2) \n",
    "sample_std2"
   ]
  },
  {
   "cell_type": "code",
   "execution_count": 34,
   "id": "1a84ac96",
   "metadata": {},
   "outputs": [],
   "source": [
    "from scipy.stats import ttest_ind, norm\n",
    "\n",
    "# create the samples\n",
    "new_machines = norm.rvs(loc=sample_mean1, scale=sample_std1, size=n1)\n",
    "old_machines = norm.rvs(loc=sample_mean2, scale=sample_std2, size=n2)"
   ]
  },
  {
   "cell_type": "code",
   "execution_count": 35,
   "id": "2693a359",
   "metadata": {},
   "outputs": [
    {
     "data": {
      "text/plain": [
       "array([42.9549173 , 43.77742141, 39.09327732, 44.68259348, 29.66364035,\n",
       "       36.15110556, 49.85525179, 56.23356649, 51.27350726, 47.70659521])"
      ]
     },
     "execution_count": 35,
     "metadata": {},
     "output_type": "execute_result"
    }
   ],
   "source": [
    "new_machines"
   ]
  },
  {
   "cell_type": "code",
   "execution_count": 36,
   "id": "b2fe8e5e",
   "metadata": {},
   "outputs": [
    {
     "data": {
      "text/plain": [
       "array([35.62866187, 39.47467263, 46.43911433, 40.86496021, 33.10594587,\n",
       "       43.67235824, 34.16362242, 36.91484601, 48.09922458, 40.29370575])"
      ]
     },
     "execution_count": 36,
     "metadata": {},
     "output_type": "execute_result"
    }
   ],
   "source": [
    "old_machines"
   ]
  },
  {
   "cell_type": "code",
   "execution_count": 37,
   "id": "c7da792a",
   "metadata": {},
   "outputs": [
    {
     "data": {
      "text/plain": [
       "Ttest_indResult(statistic=1.4563902378875988, pvalue=0.1625073015235144)"
      ]
     },
     "execution_count": 37,
     "metadata": {},
     "output_type": "execute_result"
    }
   ],
   "source": [
    "ttest_ind(new_machines, old_machines)"
   ]
  },
  {
   "cell_type": "markdown",
   "id": "501614ae",
   "metadata": {},
   "source": [
    "## 2. An additional problem (not mandatory): In this case we can't assume that the population variances are equal. Hence in this case we cannot pool the variances.\n",
    "   Independent random samples of 17 sophomores and 13 juniors attending a large university yield the following data on grade point averages. Data is provided in the file `files_for_lab/student_gpa.txt`.\n",
    "   At the 5% significance level, do the data provide sufficient evidence to conclude that the mean GPAs of sophomores and juniors at the university differ?\n",
    "\n",
    "   Test statistics can be calculated as: [link to the image - Test statistics calculation for Unpooled Variance Case](https://education-team-2020.s3-eu-west-1.amazonaws.com/data-analytics/7.04/7.04-unpooled_variances.png)\n",
    "\n",
    "   Degrees of freedom is `(n1-1)+(n2-1)`."
   ]
  },
  {
   "cell_type": "code",
   "execution_count": null,
   "id": "3925f57e",
   "metadata": {},
   "outputs": [],
   "source": []
  }
 ],
 "metadata": {
  "kernelspec": {
   "display_name": "Python 3",
   "language": "python",
   "name": "python3"
  },
  "language_info": {
   "codemirror_mode": {
    "name": "ipython",
    "version": 3
   },
   "file_extension": ".py",
   "mimetype": "text/x-python",
   "name": "python",
   "nbconvert_exporter": "python",
   "pygments_lexer": "ipython3",
   "version": "3.8.8"
  },
  "toc": {
   "base_numbering": 1,
   "nav_menu": {},
   "number_sections": true,
   "sideBar": true,
   "skip_h1_title": true,
   "title_cell": "Table of Contents",
   "title_sidebar": "Contents",
   "toc_cell": false,
   "toc_position": {},
   "toc_section_display": true,
   "toc_window_display": false
  },
  "varInspector": {
   "cols": {
    "lenName": 16,
    "lenType": 16,
    "lenVar": 40
   },
   "kernels_config": {
    "python": {
     "delete_cmd_postfix": "",
     "delete_cmd_prefix": "del ",
     "library": "var_list.py",
     "varRefreshCmd": "print(var_dic_list())"
    },
    "r": {
     "delete_cmd_postfix": ") ",
     "delete_cmd_prefix": "rm(",
     "library": "var_list.r",
     "varRefreshCmd": "cat(var_dic_list()) "
    }
   },
   "types_to_exclude": [
    "module",
    "function",
    "builtin_function_or_method",
    "instance",
    "_Feature"
   ],
   "window_display": false
  }
 },
 "nbformat": 4,
 "nbformat_minor": 5
}
