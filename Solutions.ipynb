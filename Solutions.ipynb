{
 "cells": [
  {
   "cell_type": "markdown",
   "id": "ee314908",
   "metadata": {},
   "source": [
    "# Lab | Inferential statistics - T-test & P-value"
   ]
  },
  {
   "cell_type": "markdown",
   "id": "515aa25e",
   "metadata": {},
   "source": [
    "## 1.  We will have another simple example on two sample t test (pooled- when the variances are equal). But this time this is a one sided t-test\n",
    "\n",
    "In a packing plant, a machine packs cartons with jars. It is supposed that a new machine will pack faster on the average than the machine currently used. To test that hypothesis, the times it takes each machine to pack ten cartons are recorded. The results, in seconds, are shown in the tables in the file `files_for_lab/machine.txt`.\n",
    "Assume that there is sufficient evidence to conduct the t test, does the data provide sufficient evidence to show if one machine is better than the other\n",
    "\n",
    "\n"
   ]
  },
  {
   "cell_type": "code",
   "execution_count": 12,
   "id": "c4797fc7",
   "metadata": {},
   "outputs": [],
   "source": [
    "import numpy as np\n",
    "from scipy.stats import ttest_ind\n",
    "import statistics "
   ]
  },
  {
   "cell_type": "markdown",
   "id": "a6cbe8c4-61a3-4619-87d8-910f706c1616",
   "metadata": {},
   "source": [
    "H0: new machine = (is as good as/needs the same amount of time as) old machine <br>\n",
    "Ha: new machine < (is better as/needs less amount of time as) old machine"
   ]
  },
  {
   "cell_type": "code",
   "execution_count": 2,
   "id": "b78e7f11-b8e1-4ce1-9c46-2a6922211af4",
   "metadata": {},
   "outputs": [],
   "source": [
    "old_machine = (42.7, 43.6, 43.8, 43.3, 42.5, 43.5, 43.1, 41.7, 44, 44.1)\n",
    "new_machine = (42.1, 41, 41.3, 41.8, 42.4, 42.8, 43.2, 42.3, 41.8, 42.7)"
   ]
  },
  {
   "cell_type": "code",
   "execution_count": 3,
   "id": "889595a2-6a9a-418e-8fe7-09c1962ab2ce",
   "metadata": {},
   "outputs": [
    {
     "data": {
      "text/plain": [
       "Ttest_indResult(statistic=3.3972307061176026, pvalue=0.0032111425007745158)"
      ]
     },
     "execution_count": 3,
     "metadata": {},
     "output_type": "execute_result"
    }
   ],
   "source": [
    "ttest_ind(old_machine, new_machine)"
   ]
  },
  {
   "cell_type": "markdown",
   "id": "a12300fd-f867-49da-bc4b-929a45762b00",
   "metadata": {},
   "source": [
    "- Degrees of Freedom: (n1-1)+(n2-1) = (10-1)+(10-1) = 18\n",
    "- for a sinificance (alpha) level of 0.05, the t-critical for one-tailed test = 2.878\n",
    "\n",
    "--> is this even needed here?"
   ]
  },
  {
   "cell_type": "markdown",
   "id": "978484d5-7a75-40b8-903f-e138dcc98e65",
   "metadata": {},
   "source": [
    "Comparison:\n",
    "- pvalue (0.003) < alpha value (0.05)\n",
    "- statistic (3.397) > t-critical (2.878)\n",
    "\n",
    "--> I believe we can reject H0 = there is a significant difference between the old and the new machine??"
   ]
  },
  {
   "cell_type": "code",
   "execution_count": null,
   "id": "2a286d50-02b8-490a-a620-e65754550a0f",
   "metadata": {},
   "outputs": [],
   "source": []
  },
  {
   "cell_type": "markdown",
   "id": "501614ae",
   "metadata": {},
   "source": [
    "## 2. An additional problem (not mandatory): In this case we can't assume that the population variances are equal. Hence in this case we cannot pool the variances.\n",
    "   Independent random samples of 17 sophomores and 13 juniors attending a large university yield the following data on grade point averages. Data is provided in the file `files_for_lab/student_gpa.txt`.\n",
    "   At the 5% significance level, do the data provide sufficient evidence to conclude that the mean GPAs of sophomores and juniors at the university differ?\n",
    "\n",
    "   Test statistics can be calculated as: [link to the image - Test statistics calculation for Unpooled Variance Case](https://education-team-2020.s3-eu-west-1.amazonaws.com/data-analytics/7.04/7.04-unpooled_variances.png)\n",
    "\n",
    "   Degrees of freedom is `(n1-1)+(n2-1)`."
   ]
  },
  {
   "cell_type": "markdown",
   "id": "b4dc4345-d906-43b2-a477-2a1de7a6f6e4",
   "metadata": {},
   "source": [
    "H0: there is no significant difference: mean sophmores = mean juniors\n",
    "H0: there is a significant difference: mean sophmores != mean juniors"
   ]
  },
  {
   "cell_type": "code",
   "execution_count": 9,
   "id": "3925f57e",
   "metadata": {},
   "outputs": [],
   "source": [
    "sophmores = [3.04, 1.71, 3.3, 2.88, 2.11, 2.6, 2.92, 3.6, 2.28, 2.82, 3.03, 3.13, 2.86, 3.49, 3.11, 2.13, 3.27]\n",
    "juniors = [2.56, 2.77, 2.7, 3, 2.98, 3.47, 3.26, 3.2, 3.19, 2.65, 3, 3.39, 2.58]"
   ]
  },
  {
   "cell_type": "code",
   "execution_count": 14,
   "id": "ad6fe080-6f03-4f2f-9ff5-43578abb5a97",
   "metadata": {},
   "outputs": [
    {
     "name": "stdout",
     "output_type": "stream",
     "text": [
      "The mean of sophmores is 2.84\n",
      "The mean of juniors is 2.980769230769231\n"
     ]
    }
   ],
   "source": [
    "print('The mean of sophmores is', statistics.mean(sophmores))\n",
    "print('The mean of juniors is', statistics.mean(juniors))"
   ]
  },
  {
   "cell_type": "code",
   "execution_count": 5,
   "id": "f194f83e-88a0-4428-bae3-7ee94cd0d91d",
   "metadata": {},
   "outputs": [
    {
     "data": {
      "text/plain": [
       "Ttest_indResult(statistic=-0.864325455323425, pvalue=0.39475359666695975)"
      ]
     },
     "execution_count": 5,
     "metadata": {},
     "output_type": "execute_result"
    }
   ],
   "source": [
    "ttest_ind(sophmores, juniors)"
   ]
  },
  {
   "cell_type": "markdown",
   "id": "26e301df-b991-4b2a-bf7d-bb20abb0b3f2",
   "metadata": {},
   "source": [
    "pvalue (0.395) > alpha level (0.05) \n",
    "\n",
    "==> H0 is accepted = no significant diffierence"
   ]
  }
 ],
 "metadata": {
  "kernelspec": {
   "display_name": "Python 3",
   "language": "python",
   "name": "python3"
  },
  "language_info": {
   "codemirror_mode": {
    "name": "ipython",
    "version": 3
   },
   "file_extension": ".py",
   "mimetype": "text/x-python",
   "name": "python",
   "nbconvert_exporter": "python",
   "pygments_lexer": "ipython3",
   "version": "3.9.6"
  }
 },
 "nbformat": 4,
 "nbformat_minor": 5
}
