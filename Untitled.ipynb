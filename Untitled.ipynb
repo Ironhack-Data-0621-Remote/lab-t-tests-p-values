{
 "cells": [
  {
   "cell_type": "markdown",
   "id": "ee314908",
   "metadata": {},
   "source": [
    "# Lab | Inferential statistics - T-test & P-value"
   ]
  },
  {
   "cell_type": "markdown",
   "id": "515aa25e",
   "metadata": {},
   "source": [
    "## 1.  We will have another simple example on two sample t test (pooled- when the variances are equal). But this time this is a one sided t-test\n",
    "\n",
    "In a packing plant, a machine packs cartons with jars. It is supposed that a new machine will pack faster on the average than the machine currently used. To test that hypothesis, the times it takes each machine to pack ten cartons are recorded. The results, in seconds, are shown in the tables in the file `files_for_lab/machine.txt`.\n",
    "Assume that there is sufficient evidence to conduct the t test, does the data provide sufficient evidence to show if one machine is better than the other\n",
    "\n",
    "\n"
   ]
  },
  {
   "cell_type": "code",
   "execution_count": 1,
   "id": "187b29d6",
   "metadata": {},
   "outputs": [],
   "source": [
    "import numpy as np\n",
    "from scipy.stats import ttest_ind\n",
    "import statistics as st"
   ]
  },
  {
   "cell_type": "code",
   "execution_count": 2,
   "id": "cc700f7f",
   "metadata": {},
   "outputs": [],
   "source": [
    "new = (42.1, 41, 41.3, 41.8, 42.4, 42.8, 43.2, 42.3, 41.8, 42.7)"
   ]
  },
  {
   "cell_type": "code",
   "execution_count": 3,
   "id": "76c0d90f",
   "metadata": {},
   "outputs": [],
   "source": [
    "old = (42.7, 43.6, 43.8, 43.3, 42.5, 43.5, 43.1, 41.7, 44, 44.1)"
   ]
  },
  {
   "cell_type": "code",
   "execution_count": 4,
   "id": "a28974ca",
   "metadata": {},
   "outputs": [
    {
     "data": {
      "text/plain": [
       "Ttest_indResult(statistic=3.3972307061176026, pvalue=0.0032111425007745158)"
      ]
     },
     "execution_count": 4,
     "metadata": {},
     "output_type": "execute_result"
    }
   ],
   "source": [
    "ttest_ind(old, new)"
   ]
  },
  {
   "cell_type": "markdown",
   "id": "c144ac23",
   "metadata": {},
   "source": [
    "### The DoF = n_new + n_old - 2 = 20 - 2 = 18\n",
    "### The significance level = 0.05\n",
    "### t_critical = 1.734 (obtained from the t-table, with one-tail at 0.05 and DoF = 18)"
   ]
  },
  {
   "cell_type": "code",
   "execution_count": 5,
   "id": "62856f65",
   "metadata": {},
   "outputs": [
    {
     "data": {
      "text/plain": [
       "42.14"
      ]
     },
     "execution_count": 5,
     "metadata": {},
     "output_type": "execute_result"
    }
   ],
   "source": [
    "st.mean(new)"
   ]
  },
  {
   "cell_type": "code",
   "execution_count": 6,
   "id": "4b45300c",
   "metadata": {},
   "outputs": [
    {
     "data": {
      "text/plain": [
       "43.230000000000004"
      ]
     },
     "execution_count": 6,
     "metadata": {},
     "output_type": "execute_result"
    }
   ],
   "source": [
    "st.mean(old)"
   ]
  },
  {
   "cell_type": "markdown",
   "id": "1aa97219",
   "metadata": {},
   "source": [
    "## Conclusion\n",
    "### The old machine is significantly faster at packaging jars into cartons (mean old machine > mean new machine), as the calculated t-stat 3.397 > t_critical and the calculated p-value 0.003 < 0.05."
   ]
  },
  {
   "cell_type": "markdown",
   "id": "9d1950fd",
   "metadata": {},
   "source": [
    "## Question\n",
    "### Should i divide the p-value by 2 because its a one-tailed test? or...? \n",
    "### Could i use ttest_ind(old, new, alternative='less'/'greater')???"
   ]
  },
  {
   "cell_type": "markdown",
   "id": "501614ae",
   "metadata": {},
   "source": [
    "## 2. An additional problem (not mandatory): In this case we can't assume that the population variances are equal. Hence in this case we cannot pool the variances.\n",
    "   Independent random samples of 17 sophomores and 13 juniors attending a large university yield the following data on grade point averages. Data is provided in the file `files_for_lab/student_gpa.txt`.\n",
    "   At the 5% significance level, do the data provide sufficient evidence to conclude that the mean GPAs of sophomores and juniors at the university differ?\n",
    "\n",
    "   Test statistics can be calculated as: [link to the image - Test statistics calculation for Unpooled Variance Case](https://education-team-2020.s3-eu-west-1.amazonaws.com/data-analytics/7.04/7.04-unpooled_variances.png)\n",
    "\n",
    "   Degrees of freedom is `(n1-1)+(n2-1)`."
   ]
  },
  {
   "cell_type": "code",
   "execution_count": 7,
   "id": "dfa99b91",
   "metadata": {},
   "outputs": [],
   "source": [
    "S = (3.04, 1.71, 3.3, 2.88, 2.11, 2.6, 2.92, 3.6, 2.28, 2.82, 3.03, 3.13, 2.86, 3.49, 3.11, 2.13, 3.27)"
   ]
  },
  {
   "cell_type": "code",
   "execution_count": 8,
   "id": "57081804",
   "metadata": {},
   "outputs": [],
   "source": [
    "J = (2.56, 2.77, 2.7, 3, 2.98, 3.47, 3.26, 3.2, 3.19, 2.65, 3, 3.39, 2.58)"
   ]
  },
  {
   "cell_type": "code",
   "execution_count": 9,
   "id": "34f9c6e6",
   "metadata": {},
   "outputs": [
    {
     "data": {
      "text/plain": [
       "Ttest_indResult(statistic=-0.9231495630900278, pvalue=0.3642180675348571)"
      ]
     },
     "execution_count": 9,
     "metadata": {},
     "output_type": "execute_result"
    }
   ],
   "source": [
    "ttest_ind(S, J, equal_var=False)"
   ]
  },
  {
   "cell_type": "markdown",
   "id": "8e6e96ea",
   "metadata": {},
   "source": [
    "### The null hypothesis cannot be rejected (the calculated p-value 0.364 > 0.05), hence we can conclude the means do not significantly differ. "
   ]
  }
 ],
 "metadata": {
  "kernelspec": {
   "display_name": "Python 3 (ipykernel)",
   "language": "python",
   "name": "python3"
  },
  "language_info": {
   "codemirror_mode": {
    "name": "ipython",
    "version": 3
   },
   "file_extension": ".py",
   "mimetype": "text/x-python",
   "name": "python",
   "nbconvert_exporter": "python",
   "pygments_lexer": "ipython3",
   "version": "3.9.5"
  },
  "toc": {
   "base_numbering": 1,
   "nav_menu": {},
   "number_sections": true,
   "sideBar": true,
   "skip_h1_title": false,
   "title_cell": "Table of Contents",
   "title_sidebar": "Contents",
   "toc_cell": false,
   "toc_position": {},
   "toc_section_display": true,
   "toc_window_display": false
  }
 },
 "nbformat": 4,
 "nbformat_minor": 5
}
